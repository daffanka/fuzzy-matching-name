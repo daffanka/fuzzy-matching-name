{
  "nbformat": 4,
  "nbformat_minor": 0,
  "metadata": {
    "colab": {
      "provenance": []
    },
    "kernelspec": {
      "name": "python3",
      "display_name": "Python 3"
    },
    "language_info": {
      "name": "python"
    }
  },
  "cells": [
    {
      "cell_type": "code",
      "execution_count": null,
      "metadata": {
        "id": "X4SbQn5QGTr3"
      },
      "outputs": [],
      "source": [
        "# --- Install Package ---\n",
        "!pip install pandas rapidfuzz openpyxl wordninja"
      ]
    },
    {
      "cell_type": "code",
      "source": [
        "import pandas as pd\n",
        "import re\n",
        "from rapidfuzz import fuzz, process\n",
        "import wordninja\n",
        "\n",
        "# --- CONFIG ---\n",
        "excel_file = \"fuzzy_match_template.xlsx\"\n",
        "output_file = \"matched_result.xlsx\"\n",
        "\n",
        "# --- LOAD DATA ---\n",
        "df1 = pd.read_excel(excel_file, sheet_name=\"Names_To_Match\")\n",
        "df2 = pd.read_excel(excel_file, sheet_name=\"Reference_Names\")\n",
        "\n",
        "# --- CLEANING FUNCTION ---\n",
        "def clean_name(name):\n",
        "    if pd.isna(name):\n",
        "        return \"\"\n",
        "    name = str(name).lower()\n",
        "\n",
        "    # Ambil isi dalam kurung (jika ada)\n",
        "    parens = re.findall(r\"\\((.*?)\\)\", name)\n",
        "    paren_name = parens[0] if parens else \"\"\n",
        "\n",
        "    # Hapus isi dalam tanda kurung dari nama asli\n",
        "    name = re.sub(r\"\\(.*?\\)\", \"\", name)\n",
        "\n",
        "    # Ganti 'm' atau 'm.' dengan 'muhammad'\n",
        "    name = re.sub(r\"\\bm[\\.\\s]\", \"muhammad \", name)\n",
        "\n",
        "    # Ganti simbol, tanda baca jadi spasi\n",
        "    name = re.sub(r\"[^\\w\\s]\", \" \", name)\n",
        "    name = re.sub(r\"\\s+\", \" \", name).strip()\n",
        "\n",
        "    # ⬅️ Add word segmentation for strings with no spaces\n",
        "    if \" \" not in name:\n",
        "        name = \" \".join(wordninja.split(name))\n",
        "\n",
        "    # Tambahkan nama dalam tanda kurung jika belum ada\n",
        "    if paren_name and paren_name.lower() not in name:\n",
        "        name = paren_name.lower() + \" \" + name\n",
        "\n",
        "    return name\n",
        "\n",
        "# --- CLEAN DATA ---\n",
        "df1[\"clean_name\"] = df1[\"UserName\"].apply(clean_name)\n",
        "df2[\"clean_lookup\"] = df2[\"Name\"].apply(clean_name)\n",
        "\n",
        "# --- FUZZY MATCHING ---\n",
        "def fuzzy_match(name, choices, threshold=85):\n",
        "    match = process.extractOne(name, choices, scorer=fuzz.token_sort_ratio)\n",
        "    if match and match[1] >= threshold:\n",
        "        return match[0]\n",
        "    return None\n",
        "\n",
        "df2[\"matched_from_df1\"] = df2[\"clean_lookup\"].apply(lambda x: fuzzy_match(x, df1[\"clean_name\"].tolist()))\n",
        "df2 = df2.merge(df1[[\"UserName\", \"clean_name\"]], left_on=\"matched_from_df1\", right_on=\"clean_name\", how=\"left\")\n",
        "\n",
        "# --- EXPORT: Only show essential columns ---\n",
        "final_output = df2[[\"UserName\", \"Name\"]]\n",
        "final_output.to_excel(output_file, index=False)\n",
        "\n",
        "print(f\"✅ Matching completed! Output saved to {output_file}\")\n"
      ],
      "metadata": {
        "colab": {
          "base_uri": "https://localhost:8080/"
        },
        "id": "GC3VlkckGaUp",
        "outputId": "b11ec90f-89dc-41e7-95de-e0e2c7810a71"
      },
      "execution_count": 7,
      "outputs": [
        {
          "output_type": "stream",
          "name": "stdout",
          "text": [
            "✅ Matching completed! Output saved to matched_result.xlsx\n"
          ]
        }
      ]
    },
    {
      "cell_type": "code",
      "source": [],
      "metadata": {
        "id": "JnVn4CH8G8cm"
      },
      "execution_count": null,
      "outputs": []
    }
  ]
}
